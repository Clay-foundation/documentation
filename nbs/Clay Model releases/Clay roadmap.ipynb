{
 "cells": [
  {
   "cell_type": "code",
   "execution_count": null,
   "metadata": {},
   "outputs": [],
   "source": [
    "---\n",
    "skip_exec: true\n",
    "---"
   ]
  },
  {
   "cell_type": "markdown",
   "metadata": {},
   "source": [
    "# Clay Model roadmap\n",
    "> Release roadmap for Clay Model"
   ]
  },
  {
   "cell_type": "markdown",
   "metadata": {},
   "source": [
    "--\n",
    "\n",
    "[`Clay Model v0`](Clay%20Model%20releases/clay%20v0%20release.html) was released in Dec'23.\n",
    "\n",
    "--\n",
    "\n",
    "`Clay Model v1` is expected to be released in Q1 2024. High-level goals include:\n",
    "\n",
    "- More trainning time on more spatial and temporal coverage of Earth EO archives.\n",
    "- More robust handling of data, go beyond [Sentinel-2, Sentinel-1, DEM]\n",
    "- More emphasis on semantic anchors or Earth.\n",
    "- Better QA, testing and benchmarking.\n",
    "- Better finetune documentation.\n"
   ]
  },
  {
   "cell_type": "markdown",
   "metadata": {},
   "source": []
  }
 ],
 "metadata": {
  "kernelspec": {
   "display_name": "python3",
   "language": "python",
   "name": "python3"
  }
 },
 "nbformat": 4,
 "nbformat_minor": 2
}
