{
 "cells": [
  {
   "cell_type": "markdown",
   "metadata": {},
   "source": [
    "# Model\n",
    "\n",
    "> Model utilities to use Clay."
   ]
  },
  {
   "cell_type": "code",
   "execution_count": null,
   "metadata": {},
   "outputs": [],
   "source": [
    "# | default_exp model\n",
    "%load_ext autoreload\n",
    "%autoreload 2"
   ]
  },
  {
   "cell_type": "code",
   "execution_count": null,
   "metadata": {},
   "outputs": [],
   "source": [
    "from huggingface_hub import hf_hub_download\n",
    "from pathlib import Path"
   ]
  },
  {
   "cell_type": "markdown",
   "metadata": {},
   "source": [
    "You can manage the Clay Model with the `Model` class."
   ]
  },
  {
   "cell_type": "code",
   "execution_count": null,
   "metadata": {},
   "outputs": [
    {
     "ename": "SyntaxError",
     "evalue": "f-string: single '}' is not allowed (470303938.py, line 27)",
     "output_type": "error",
     "traceback": [
      "\u001b[0;36m  Cell \u001b[0;32mIn[21], line 27\u001b[0;36m\u001b[0m\n\u001b[0;31m    print(f\"Only one version available for now: {self.version}}\")\u001b[0m\n\u001b[0m                                                                ^\u001b[0m\n\u001b[0;31mSyntaxError\u001b[0m\u001b[0;31m:\u001b[0m f-string: single '}' is not allowed\n"
     ]
    }
   ],
   "source": [
    "# | export\n",
    "class Model():\n",
    "    def __init__(self, \n",
    "                 version: str = None, # version to load, if None, load latest\n",
    "                 local_folder: Path = None, # local path to save model\n",
    "                 force_fetch: bool = False): # force fetch and overwrite from HG\n",
    "        \n",
    "        self.version = version\n",
    "        if self.version is None:\n",
    "            self.get_latest_version()\n",
    "        print(f\"Target model {self.version}\")\n",
    "        \n",
    "        if local_folder is None:\n",
    "            self.local_folder = Path(f\"models/{version}/\")\n",
    "        self.local_folder.mkdir(parents=True, exist_ok=True)\n",
    "\n",
    "        self.force_fetch = force_fetch\n",
    "        \n",
    "        self.model = self.fetch_model()\n",
    "\n",
    "    def get_latest_version(self):\n",
    "        \"\"\"\n",
    "        Get latest version of model from HG\n",
    "        \"\"\"\n",
    "        self.version = \"v0.0\"\n",
    "        print(f\"Only one version available for now: {self.version}}\")\n",
    "    \n",
    "    def fetch_model(self):\n",
    "        \"\"\"\n",
    "        Fetch model from HG\n",
    "        \"\"\"\n",
    "        versions = {\n",
    "            'v0.0': \n",
    "            {'filename': 'Clay-v0.0_epoch-02_val-loss-0.52.ckpt'}\n",
    "        }\n",
    "        if self.version in versions:\n",
    "            self.filename = versions[self.version]['filename']\n",
    "        else:\n",
    "            raise ValueError(f\"Version {self.version} not found\")\n",
    "        \n",
    "        \n",
    "        hf_hub_download(repo_id=\"made-with-clay/Clay\",\n",
    "                        filename=self.filename,\n",
    "                        cache_dir=self.local_folder,\n",
    "                        force_download=self.force_fetch)\n",
    "        \n",
    "        \n",
    "        "
   ]
  },
  {
   "cell_type": "markdown",
   "metadata": {},
   "source": [
    "To download the lastest model:\n"
   ]
  },
  {
   "cell_type": "code",
   "execution_count": null,
   "metadata": {},
   "outputs": [
    {
     "name": "stdout",
     "output_type": "stream",
     "text": [
      "Only one version available for now: v0.0\n"
     ]
    },
    {
     "ename": "ValueError",
     "evalue": "Version None not found",
     "output_type": "error",
     "traceback": [
      "\u001b[0;31m---------------------------------------------------------------------------\u001b[0m",
      "\u001b[0;31mValueError\u001b[0m                                Traceback (most recent call last)",
      "Cell \u001b[0;32mIn[22], line 1\u001b[0m\n\u001b[0;32m----> 1\u001b[0m model\u001b[38;5;241m=\u001b[39m \u001b[43mModel\u001b[49m\u001b[43m(\u001b[49m\u001b[43m)\u001b[49m\n",
      "Cell \u001b[0;32mIn[15], line 19\u001b[0m, in \u001b[0;36mModel.__init__\u001b[0;34m(self, version, local_folder, force_fetch)\u001b[0m\n\u001b[1;32m     15\u001b[0m \u001b[38;5;28mself\u001b[39m\u001b[38;5;241m.\u001b[39mlocal_folder\u001b[38;5;241m.\u001b[39mmkdir(parents\u001b[38;5;241m=\u001b[39m\u001b[38;5;28;01mTrue\u001b[39;00m, exist_ok\u001b[38;5;241m=\u001b[39m\u001b[38;5;28;01mTrue\u001b[39;00m)\n\u001b[1;32m     17\u001b[0m \u001b[38;5;28mself\u001b[39m\u001b[38;5;241m.\u001b[39mforce_fetch \u001b[38;5;241m=\u001b[39m force_fetch\n\u001b[0;32m---> 19\u001b[0m \u001b[38;5;28mself\u001b[39m\u001b[38;5;241m.\u001b[39mmodel \u001b[38;5;241m=\u001b[39m \u001b[38;5;28;43mself\u001b[39;49m\u001b[38;5;241;43m.\u001b[39;49m\u001b[43mfetch_model\u001b[49m\u001b[43m(\u001b[49m\u001b[43m)\u001b[49m\n",
      "Cell \u001b[0;32mIn[15], line 39\u001b[0m, in \u001b[0;36mModel.fetch_model\u001b[0;34m(self)\u001b[0m\n\u001b[1;32m     37\u001b[0m     \u001b[38;5;28mself\u001b[39m\u001b[38;5;241m.\u001b[39mfilename \u001b[38;5;241m=\u001b[39m versions[\u001b[38;5;28mself\u001b[39m\u001b[38;5;241m.\u001b[39mversion][\u001b[38;5;124m'\u001b[39m\u001b[38;5;124mfilename\u001b[39m\u001b[38;5;124m'\u001b[39m]\n\u001b[1;32m     38\u001b[0m \u001b[38;5;28;01melse\u001b[39;00m:\n\u001b[0;32m---> 39\u001b[0m     \u001b[38;5;28;01mraise\u001b[39;00m \u001b[38;5;167;01mValueError\u001b[39;00m(\u001b[38;5;124mf\u001b[39m\u001b[38;5;124m\"\u001b[39m\u001b[38;5;124mVersion \u001b[39m\u001b[38;5;132;01m{\u001b[39;00m\u001b[38;5;28mself\u001b[39m\u001b[38;5;241m.\u001b[39mversion\u001b[38;5;132;01m}\u001b[39;00m\u001b[38;5;124m not found\u001b[39m\u001b[38;5;124m\"\u001b[39m)\n\u001b[1;32m     42\u001b[0m hf_hub_download(repo_id\u001b[38;5;241m=\u001b[39m\u001b[38;5;124m\"\u001b[39m\u001b[38;5;124mmade-with-clay/Clay\u001b[39m\u001b[38;5;124m\"\u001b[39m,\n\u001b[1;32m     43\u001b[0m                 filename\u001b[38;5;241m=\u001b[39m\u001b[38;5;28mself\u001b[39m\u001b[38;5;241m.\u001b[39mfilename,\n\u001b[1;32m     44\u001b[0m                 cache_dir\u001b[38;5;241m=\u001b[39m\u001b[38;5;28mself\u001b[39m\u001b[38;5;241m.\u001b[39mlocal_folder,\n\u001b[1;32m     45\u001b[0m                 force_download\u001b[38;5;241m=\u001b[39m\u001b[38;5;28mself\u001b[39m\u001b[38;5;241m.\u001b[39mforce_fetch)\n",
      "\u001b[0;31mValueError\u001b[0m: Version None not found"
     ]
    }
   ],
   "source": [
    "model= Model()"
   ]
  },
  {
   "cell_type": "code",
   "execution_count": null,
   "metadata": {},
   "outputs": [],
   "source": [
    "#| hide\n",
    "import nbdev\n",
    "nbdev.nbdev_export()"
   ]
  },
  {
   "cell_type": "code",
   "execution_count": null,
   "metadata": {},
   "outputs": [],
   "source": []
  }
 ],
 "metadata": {
  "kernelspec": {
   "display_name": "python3",
   "language": "python",
   "name": "python3"
  }
 },
 "nbformat": 4,
 "nbformat_minor": 4
}
