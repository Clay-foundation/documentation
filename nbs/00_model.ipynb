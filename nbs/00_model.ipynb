{
 "cells": [
  {
   "cell_type": "markdown",
   "metadata": {},
   "source": [
    "# Model\n",
    "\n",
    "> Model utilities to use Clay."
   ]
  },
  {
   "cell_type": "code",
   "execution_count": null,
   "metadata": {},
   "outputs": [],
   "source": [
    "# | default_exp model\n",
    "%load_ext autoreload\n",
    "%autoreload 2"
   ]
  },
  {
   "cell_type": "code",
   "execution_count": null,
   "metadata": {},
   "outputs": [
    {
     "name": "stdout",
     "output_type": "stream",
     "text": [
      "/home/brunosan/code/Clay/documentation/madewithclay/__init__.py\n",
      "/home/brunosan/code/Clay/documentation/madewithclay/data.py\n",
      "/home/brunosan/code/Clay/documentation/madewithclay/embeddings.py\n"
     ]
    }
   ],
   "source": [
    "#| hide\n",
    "import madewithclay\n",
    "\n",
    "import inspect\n",
    "\n",
    "print(inspect.getsourcefile(madewithclay))\n",
    "print(inspect.getsourcefile(madewithclay.data))\n",
    "print(inspect.getsourcefile(madewithclay.embeddings))"
   ]
  },
  {
   "cell_type": "code",
   "execution_count": null,
   "metadata": {},
   "outputs": [],
   "source": [
    "#| export\n",
    "from huggingface_hub import hf_hub_download\n",
    "from pathlib import Path\n",
    "from shapely.geometry import Point\n",
    "import datetime\n"
   ]
  },
  {
   "cell_type": "markdown",
   "metadata": {},
   "source": [
    "You can manage the Clay Model with the `Model` class."
   ]
  },
  {
   "cell_type": "code",
   "execution_count": null,
   "metadata": {},
   "outputs": [
    {
     "ename": "NameError",
     "evalue": "name 'Path' is not defined",
     "output_type": "error",
     "traceback": [
      "\u001b[0;31m---------------------------------------------------------------------------\u001b[0m",
      "\u001b[0;31mNameError\u001b[0m                                 Traceback (most recent call last)",
      "Cell \u001b[0;32mIn[1], line 2\u001b[0m\n\u001b[1;32m      1\u001b[0m \u001b[38;5;66;03m# | export\u001b[39;00m\n\u001b[0;32m----> 2\u001b[0m \u001b[38;5;28;43;01mclass\u001b[39;49;00m\u001b[43m \u001b[49m\u001b[38;5;21;43;01mModel\u001b[39;49;00m\u001b[43m(\u001b[49m\u001b[43m)\u001b[49m\u001b[43m:\u001b[49m\n\u001b[1;32m      3\u001b[0m \u001b[43m    \u001b[49m\u001b[38;5;28;43;01mdef\u001b[39;49;00m\u001b[43m \u001b[49m\u001b[38;5;21;43m__init__\u001b[39;49m\u001b[43m(\u001b[49m\u001b[38;5;28;43mself\u001b[39;49m\u001b[43m,\u001b[49m\u001b[43m \u001b[49m\n\u001b[1;32m      4\u001b[0m \u001b[43m                 \u001b[49m\u001b[43mversion\u001b[49m\u001b[43m:\u001b[49m\u001b[43m \u001b[49m\u001b[38;5;28;43mstr\u001b[39;49m\u001b[43m \u001b[49m\u001b[38;5;241;43m=\u001b[39;49m\u001b[43m \u001b[49m\u001b[38;5;28;43;01mNone\u001b[39;49;00m\u001b[43m,\u001b[49m\u001b[43m \u001b[49m\u001b[38;5;66;43;03m# version to load, if None, load latest\u001b[39;49;00m\n\u001b[1;32m      5\u001b[0m \u001b[43m                 \u001b[49m\u001b[43mlocal_folder\u001b[49m\u001b[43m:\u001b[49m\u001b[43m \u001b[49m\u001b[43mPath\u001b[49m\u001b[43m \u001b[49m\u001b[38;5;241;43m=\u001b[39;49m\u001b[43m \u001b[49m\u001b[38;5;28;43;01mNone\u001b[39;49;00m\u001b[43m,\u001b[49m\u001b[43m \u001b[49m\u001b[38;5;66;43;03m# local path to save model\u001b[39;49;00m\n\u001b[1;32m      6\u001b[0m \u001b[43m                 \u001b[49m\u001b[43mforce_fetch\u001b[49m\u001b[43m:\u001b[49m\u001b[43m \u001b[49m\u001b[38;5;28;43mbool\u001b[39;49m\u001b[43m \u001b[49m\u001b[38;5;241;43m=\u001b[39;49m\u001b[43m \u001b[49m\u001b[38;5;28;43;01mFalse\u001b[39;49;00m\u001b[43m)\u001b[49m\u001b[43m:\u001b[49m\u001b[43m \u001b[49m\u001b[38;5;66;43;03m# force fetch and overwrite from HG\u001b[39;49;00m\n\u001b[1;32m      8\u001b[0m \u001b[43m        \u001b[49m\u001b[38;5;28;43mself\u001b[39;49m\u001b[38;5;241;43m.\u001b[39;49m\u001b[43mversion\u001b[49m\u001b[43m \u001b[49m\u001b[38;5;241;43m=\u001b[39;49m\u001b[43m \u001b[49m\u001b[43mversion\u001b[49m\n",
      "Cell \u001b[0;32mIn[1], line 5\u001b[0m, in \u001b[0;36mModel\u001b[0;34m()\u001b[0m\n\u001b[1;32m      2\u001b[0m \u001b[38;5;28;01mclass\u001b[39;00m \u001b[38;5;21;01mModel\u001b[39;00m():\n\u001b[1;32m      3\u001b[0m     \u001b[38;5;28;01mdef\u001b[39;00m \u001b[38;5;21m__init__\u001b[39m(\u001b[38;5;28mself\u001b[39m, \n\u001b[1;32m      4\u001b[0m                  version: \u001b[38;5;28mstr\u001b[39m \u001b[38;5;241m=\u001b[39m \u001b[38;5;28;01mNone\u001b[39;00m, \u001b[38;5;66;03m# version to load, if None, load latest\u001b[39;00m\n\u001b[0;32m----> 5\u001b[0m                  local_folder: \u001b[43mPath\u001b[49m \u001b[38;5;241m=\u001b[39m \u001b[38;5;28;01mNone\u001b[39;00m, \u001b[38;5;66;03m# local path to save model\u001b[39;00m\n\u001b[1;32m      6\u001b[0m                  force_fetch: \u001b[38;5;28mbool\u001b[39m \u001b[38;5;241m=\u001b[39m \u001b[38;5;28;01mFalse\u001b[39;00m): \u001b[38;5;66;03m# force fetch and overwrite from HG\u001b[39;00m\n\u001b[1;32m      8\u001b[0m         \u001b[38;5;28mself\u001b[39m\u001b[38;5;241m.\u001b[39mversion \u001b[38;5;241m=\u001b[39m version\n\u001b[1;32m      9\u001b[0m         \u001b[38;5;28;01mif\u001b[39;00m \u001b[38;5;28mself\u001b[39m\u001b[38;5;241m.\u001b[39mversion \u001b[38;5;129;01mis\u001b[39;00m \u001b[38;5;28;01mNone\u001b[39;00m:\n",
      "\u001b[0;31mNameError\u001b[0m: name 'Path' is not defined"
     ]
    }
   ],
   "source": [
    "# | export\n",
    "class Model():\n",
    "    def __init__(self, \n",
    "                 version: str = None, # version to load, if None, load latest\n",
    "                 local_folder: Path = None, # local path to save model\n",
    "                 force_fetch: bool = False): # force fetch and overwrite from HG\n",
    "        \n",
    "        self.version = version\n",
    "        if self.version is None:\n",
    "            self.get_latest_version()\n",
    "        print(f\"Target model {self.version}\")\n",
    "        \n",
    "        if local_folder is None:\n",
    "            self.local_folder = Path(f\"models/{version}/\")\n",
    "        self.local_folder.mkdir(parents=True, exist_ok=True)\n",
    "\n",
    "        self.force_fetch = force_fetch\n",
    "        \n",
    "        self.model = self.fetch_model()\n",
    "\n",
    "    def get_latest_version(self):\n",
    "        \"\"\"\n",
    "        Get latest version of model from HG\n",
    "        \"\"\"\n",
    "        self.version = \"v0.0\"\n",
    "        print(f\"Only one version available for now: {self.version}\")\n",
    "    \n",
    "    def fetch_model(self):\n",
    "        \"\"\"\n",
    "        Fetch model from HG\n",
    "        \"\"\"\n",
    "        versions = {\n",
    "            'v0.0': \n",
    "            {'filename': 'Clay-v0.0_epoch-02_val-loss-0.52.ckpt'}\n",
    "        }\n",
    "        if self.version in versions:\n",
    "            self.filename = versions[self.version]['filename']\n",
    "        else:\n",
    "            raise ValueError(f\"Version {self.version} not found\")\n",
    "        \n",
    "        \n",
    "        hf_hub_download(repo_id=\"made-with-clay/Clay\",\n",
    "                        filename=self.filename,\n",
    "                        cache_dir=self.local_folder,\n",
    "                        force_download=self.force_fetch)\n",
    "        \n",
    "        \n",
    "        "
   ]
  },
  {
   "cell_type": "markdown",
   "metadata": {},
   "source": [
    "To download the lastest model:\n"
   ]
  },
  {
   "cell_type": "code",
   "execution_count": null,
   "metadata": {},
   "outputs": [
    {
     "name": "stdout",
     "output_type": "stream",
     "text": [
      "Only one version available for now: v0.0\n",
      "Target model v0.0\n"
     ]
    }
   ],
   "source": [
    "model= Model()"
   ]
  },
  {
   "cell_type": "markdown",
   "metadata": {},
   "source": [
    "## Train from scratch\n",
    "\n",
    "If you want to train from scratch, you first must prepare the input data. Let's take Copenhagen in Jan 1st, 2020 as an example."
   ]
  },
  {
   "cell_type": "code",
   "execution_count": null,
   "metadata": {},
   "outputs": [
    {
     "name": "stdout",
     "output_type": "stream",
     "text": [
      "Method prepare_data_for_location_and_time not implemented yet.\n",
      "creates 3 files\n"
     ]
    }
   ],
   "source": [
    "copenhagen = Point(55.6761, 12.5683)\n",
    "date = datetime.datetime(2020, 1, 1)\n",
    "local_folder = Path(\"data/\")\n",
    "\n",
    "input_data = madewithclay.data.factory(copenhagen, date, model_version=model.version, local_folder=local_folder)\n",
    "print(f\"creates {input_data.len} files\")\n"
   ]
  },
  {
   "cell_type": "markdown",
   "metadata": {},
   "source": [
    "Train the model\n"
   ]
  },
  {
   "cell_type": "raw",
   "metadata": {},
   "source": [
    "python trainer.py fit --ckpt_path=checkpoints/last.ckpt --data.data_dir=local_folder"
   ]
  },
  {
   "cell_type": "markdown",
   "metadata": {},
   "source": [
    "Now you can use the trained model to create embeddings for the input data."
   ]
  },
  {
   "cell_type": "raw",
   "metadata": {},
   "source": [
    "python trainer.py predict --ckpt_path=checkpoints/last.ckpt --data.data_dir=local_folder"
   ]
  },
  {
   "cell_type": "markdown",
   "metadata": {},
   "source": [
    "This is a draft class. No more methods are implemented yet.\n",
    "\n",
    "\n",
    "See model [README](https://github.com/Clay-foundation/model) for more details how to train and fine-tune the model.\n",
    "\n"
   ]
  },
  {
   "cell_type": "code",
   "execution_count": null,
   "metadata": {},
   "outputs": [],
   "source": [
    "#| hide\n",
    "import nbdev\n",
    "nbdev.nbdev_export()"
   ]
  }
 ],
 "metadata": {
  "kernelspec": {
   "display_name": "python3",
   "language": "python",
   "name": "python3"
  }
 },
 "nbformat": 4,
 "nbformat_minor": 4
}
