{
 "cells": [
  {
   "cell_type": "markdown",
   "metadata": {},
   "source": [
    "# Input data\n",
    "\n",
    "> Input data utilities to use Clay."
   ]
  },
  {
   "cell_type": "code",
   "execution_count": 1,
   "metadata": {},
   "outputs": [],
   "source": [
    "# | default_exp data\n",
    "%load_ext autoreload\n",
    "%autoreload 2"
   ]
  },
  {
   "cell_type": "code",
   "execution_count": 2,
   "metadata": {},
   "outputs": [
    {
     "name": "stdout",
     "output_type": "stream",
     "text": [
      "/home/brunosan/code/Clay/documentation/madewithclay/__init__.py\n",
      "/home/brunosan/code/Clay/documentation/madewithclay/data.py\n",
      "/home/brunosan/code/Clay/documentation/madewithclay/embeddings.py\n"
     ]
    }
   ],
   "source": [
    "#| hide\n",
    "import madewithclay\n",
    "\n",
    "import inspect\n",
    "\n",
    "print(inspect.getsourcefile(madewithclay))\n",
    "print(inspect.getsourcefile(madewithclay.data))\n",
    "print(inspect.getsourcefile(madewithclay.embeddings))"
   ]
  },
  {
   "cell_type": "code",
   "execution_count": 3,
   "metadata": {},
   "outputs": [],
   "source": [
    "#| export\n",
    "from pathlib import Path\n",
    "from shapely.geometry import Polygon,Point\n",
    "from typing import List, Union\n",
    "import datetime\n"
   ]
  },
  {
   "cell_type": "markdown",
   "metadata": {},
   "source": [
    "When running Clay with input data, you need to first prepare the data. Depending on the Clay model version, the model expects specific files, bands, and data types. This package provides utilities to prepare the data for Clay."
   ]
  },
  {
   "cell_type": "code",
   "execution_count": 4,
   "metadata": {},
   "outputs": [],
   "source": [
    "#| export\n",
    "class factory:\n",
    "\n",
    "    def __init__(self, \n",
    "                locations:  Union[Point, # location point to prepare data.\n",
    "                                  Polygon, # location polygon to prepare data.\n",
    "                                  List[Union[Point, # list of location points to prepare data.\n",
    "                                             Polygon]]] , # list of location polygons to prepare data.\n",
    "                times: Union[ datetime.time ,List[datetime.time]], # list of times to prepare data.\n",
    "                model_version: str, # model version for which to prepare data.\n",
    "                local_folder: Path): # local folder to store data.\n",
    "        \n",
    "        if not isinstance(locations, list):\n",
    "            locations = [locations]\n",
    "        if not isinstance(times, list):\n",
    "            times = [times]\n",
    "        \n",
    "        self.locations = locations\n",
    "        self.times = times\n",
    "        self.model_version = model_version\n",
    "        self.local_folder = local_folder\n",
    "\n",
    "        self.prepare_data()\n",
    "    \n",
    "    def prepare_data(self):\n",
    "        self.files = []\n",
    "        for location in self.locations:\n",
    "            for time in self.times:\n",
    "                batch_files = self.prepare_data_for_location_and_time(location,time)\n",
    "                self.files.append(batch_files)\n",
    "        self.files = [item for sublist in self.files for item in sublist]\n",
    "        self.len = len(self.files)\n",
    "    \n",
    "    def prepare_data_for_location_and_time(self,\n",
    "                                           location: Union[Point,Polygon], # location to prepare data.\n",
    "                                           time: str): # time to prepare data.\n",
    "        #TODO\n",
    "        # Search assets on Planetary Computer\n",
    "        # Download assets\n",
    "        # save into local_folder\n",
    "\n",
    "        # make list of *.tif file on local_folder\n",
    "        print(\"Method prepare_data_for_location_and_time not implemented yet.\")\n",
    "        files = ['file1.tif','file2.tif','file3.tif']\n",
    "        return files\n",
    "        \n",
    "        \n",
    "    def rgb(self,\n",
    "            at_most: int = 10): # at most how many random images to plot.\n",
    "        \"\"\"\n",
    "        Plot RGB images.\n",
    "        \"\"\"\n",
    "        #pick at most 10 random files from self.files\n",
    "        print(\"Method not implemented yet.\")\n",
    "        \n"
   ]
  },
  {
   "cell_type": "markdown",
   "metadata": {},
   "source": [
    "The unit of data is the section of a MGRS tile of size `512x512`, called \"patch\". When giving a point, the data factory will create only the data for that patch."
   ]
  },
  {
   "cell_type": "code",
   "execution_count": 5,
   "metadata": {},
   "outputs": [
    {
     "name": "stdout",
     "output_type": "stream",
     "text": [
      "Method prepare_data_for_location_and_time not implemented yet.\n",
      "3 files.\n"
     ]
    }
   ],
   "source": [
    "copenhagen = Point(12.568337, 55.676098)\n",
    "time = datetime.datetime(2020, 1, 1)\n",
    "model_version = \"v0\"\n",
    "local_folder = Path(\"tmp/data\")\n",
    "\n",
    "input_data=factory(copenhagen,time,model_version,local_folder)\n",
    "print(f\"{input_data.len} files.\")\n",
    "\n"
   ]
  },
  {
   "cell_type": "markdown",
   "metadata": {},
   "source": [
    "You can visualize the data with the `data.rgb` method."
   ]
  },
  {
   "cell_type": "code",
   "execution_count": 6,
   "metadata": {},
   "outputs": [
    {
     "name": "stdout",
     "output_type": "stream",
     "text": [
      "Method not implemented yet.\n"
     ]
    }
   ],
   "source": [
    "input_data.rgb()"
   ]
  },
  {
   "cell_type": "code",
   "execution_count": 7,
   "metadata": {},
   "outputs": [],
   "source": [
    "#| hide\n",
    "import nbdev\n",
    "nbdev.nbdev_export()"
   ]
  }
 ],
 "metadata": {
  "kernelspec": {
   "display_name": "python3",
   "language": "python",
   "name": "python3"
  },
  "language_info": {
   "codemirror_mode": {
    "name": "ipython",
    "version": 3
   },
   "file_extension": ".py",
   "mimetype": "text/x-python",
   "name": "python",
   "nbconvert_exporter": "python",
   "pygments_lexer": "ipython3",
   "version": "3.11.7"
  }
 },
 "nbformat": 4,
 "nbformat_minor": 4
}
