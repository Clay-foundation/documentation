{
 "cells": [
  {
   "cell_type": "code",
   "execution_count": null,
   "metadata": {},
   "outputs": [],
   "source": [
    "# | hide"
   ]
  },
  {
   "cell_type": "markdown",
   "metadata": {},
   "source": [
    "# Clay documentation\n",
    "\n",
    "> Documentation, SDK and notebooks for using Clay."
   ]
  },
  {
   "cell_type": "markdown",
   "metadata": {},
   "source": [
    "## Overview\n",
    "\n",
    "Clay is a [foundational model](#) of Earth using Earth Observation data. As the AI Deep Learning architecture, it uses an expanded [visual transformer](#) upgraded to understant geospatial and temporal relations on Earth data, from any instrument/spectral data. The AI self-supervised fundational task is a [Masked Autoencoder (MAE)](https://arxiv.org/abs/2111.06377) approach for training.\n",
    "\n",
    "\n",
    "The Clay model primarily functions in two ways: first, by directly generating semantic embeddings for tasks like similarity searches, and second, through fine-tuning its outputs with additional data labels. This fine-tuning supports various tasks, including classification (e.g. flood detection and deforestation monitoring), regression (e.g. estimating carbon stock or crop yields), and generative tasks such as creating RGB imagery from SAR data. Moreover, users can further enhance model performance by incorporating higher-resolution data.\n",
    "\n",
    "\n",
    "This documentation uses [nbdev](#), which combines documentation, code samples and an SDK. This means that every page is also a python notebook anyone can use, with practical code examples for each functionality, and use case. Moreover, you can install `pip install clay` and use the same functions.\n",
    "\n",
    "\n"
   ]
  },
  {
   "cell_type": "markdown",
   "metadata": {},
   "source": [
    "Clay is open source, open data and open for business."
   ]
  },
  {
   "cell_type": "markdown",
   "metadata": {},
   "source": [
    "## Where is what\n",
    "\n",
    "- The Clay model **code** lives on [Github](https://github.com/Clay-foundation/model). License: [Apache](https://github.com/Clay-foundation/model/LICENSE).\n",
    "- The Clay model **weights** live on [Huggin Face](#). License: [OpenRAIL-M](https://github.com/Clay-foundation/model/blob/main/LICENSE-MODEL.md).\n",
    "- The Clay **documentation** [lives on this site](https://clay-foundation.github.io/documentation/). License: [CC-BY](#).\n",
    "- The Clay **SDK** lives on [PyPi](https://pypi.org/project/madewithclay/). License: [Apache](#).\n",
    "- We maintain a set of **embeddings** on [Source Cooperative](#). License: [ODC-BY](#).\n"
   ]
  },
  {
   "cell_type": "markdown",
   "metadata": {},
   "source": [
    "## How to use Clay\n",
    "\n",
    "The model can be used in two main ways:\n",
    "\n",
    "1. Directly, use it to make inference. See [Model](Model.html)\n",
    "    1. Check and run Benchmarks on the model. See [Benchmarks](Benchmarks.html) \n",
    "2. Generating semantic **embeddings**. E.g. for Similarity search. See [Embeddings](Embeddings.html). \n",
    "2. **Fine-tunning** the model for other tasks, or for other input data. E.g. flood detection, crop yields, ... See [Fine-tunning](Fine-tunning.html).\n",
    "3. **Generative** tasks: E.g. Estimate RGB imagery wihtout clouds or from Synthetic Aperture Radar (SAR) data. See [Generative](Generative.html).\n"
   ]
  },
  {
   "cell_type": "markdown",
   "metadata": {},
   "source": [
    "## How to contribute\n",
    "\n",
    "Clay is an open source project, and we welcome contributions of all kinds. \n",
    "\n",
    "The Documentation, python package and notebooks are all the same [NBdev](https://nbdev.fast.ai/) project, located [here](https://github.com/Clay-foundation/documentation).\n",
    "\n",
    "> Note: If you want to contribute to the model code, please check the [model repository](https://github.com/Clay-foundation/model).\n",
    "\n",
    "To install the nbdev project locally, you can use:\n",
    "\n",
    "```bash\n",
    "git clone git@github.com:Clay-foundation/documentation.git\n",
    "cd documentation\n",
    "pip install nbdev\n",
    "nbdev_install_git_hooks\n",
    "```\n",
    "\n",
    "After you make changes, you can export the notebooks into both the package, rendered documentation and clean jupyter notebook execution metadata with:\n",
    "\n",
    "```bash\n",
    "nbdev_prepare\n",
    "```\n",
    "\n",
    "If you want to preview the documentation locally, you can use:\n",
    "\n",
    "```bash\n",
    "nbdev_preview\n",
    "```\n",
    "\n",
    "To run the test locally, you need to install [Github CLI](https://cli.github.com/) and act extension `sudo gh extension install nektos/gh-act`. You alse need a local file (e.g. `.secrets`) with the AWS credentials to read the Clay buckets. Remember to add this file to `.gitignore` to avoid commiting it. Then you can run the tests with:\n",
    "\n",
    "```bash\n",
    "gh act --secret-file .secrets\n",
    "```\n"
   ]
  },
  {
   "cell_type": "markdown",
   "metadata": {},
   "source": [
    "--\n",
    "\n",
    "Clay is a fiscally sponsored project of [Radiant Earth](), a USA registered 501(c)3 non-profit."
   ]
  }
 ],
 "metadata": {
  "kernelspec": {
   "display_name": "python3",
   "language": "python",
   "name": "python3"
  }
 },
 "nbformat": 4,
 "nbformat_minor": 4
}
