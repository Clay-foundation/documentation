{
 "cells": [
  {
   "cell_type": "code",
   "execution_count": null,
   "metadata": {},
   "outputs": [],
   "source": [
    "# | hide"
   ]
  },
  {
   "cell_type": "markdown",
   "metadata": {},
   "source": [
    "# Clay documentation\n",
    "\n",
    "> Documentation, SDK and notebooks for using Clay."
   ]
  },
  {
   "cell_type": "markdown",
   "metadata": {},
   "source": [
    "## Overview\n",
    "\n",
    "Clay is a [foundational model](#) of Earth using Earth Observation data. As the AI Deep Learning architecture, it uses an expanded [visual transformer](#) upgraded to understant geospatial and temporal relations on Earth data, from any instrument/spectral data. The AI self-supervised fundational task is a [Masked Autoencoder (MAE)](https://arxiv.org/abs/2111.06377) approach for training.\n",
    "\n",
    "\n",
    "The Clay model primarily functions in two ways: first, by directly generating semantic embeddings for tasks like similarity searches, and second, through fine-tuning its outputs with additional data labels. This fine-tuning supports various tasks, including classification (e.g. flood detection and deforestation monitoring), regression (e.g. estimating carbon stock or crop yields), and generative tasks such as creating RGB imagery from SAR data. Moreover, users can further enhance model performance by incorporating higher-resolution data.\n",
    "\n",
    "\n",
    "This documentation uses [nbdev](#), which combines documentation, code samples and an SDK. This means that every page is also a python notebook anyone can use, with practical code examples for each functionality, and use case. Moreover, you can install `pip install clay` and use the same functions.\n",
    "\n",
    "\n"
   ]
  },
  {
   "cell_type": "markdown",
   "metadata": {},
   "source": [
    "Clay is open source, open data and open for business."
   ]
  },
  {
   "cell_type": "markdown",
   "metadata": {},
   "source": [
    "## Where is what\n",
    "\n",
    "- The Clay model **code** lives on [Github](https://github.com/Clay-foundation/model). License: [Apache](https://github.com/Clay-foundation/model/LICENSE).\n",
    "- The Clay model **weights** live on [Huggin Face](#). License: [OpenRAIL-M](https://github.com/Clay-foundation/model/blob/main/LICENSE-MODEL.md).\n",
    "- The Clay **documentation** lives on here. License: [CC-BY](#).\n",
    "- The Clay **SDK** lives on [PyPi](#). License: [Apache](#).\n",
    "- We maintain a set of **embeddings** on [Source Cooperative](#). License: [ODC-BY](#).\n"
   ]
  },
  {
   "cell_type": "markdown",
   "metadata": {},
   "source": [
    "## How to use Clay\n",
    "\n",
    "The model can be used in two main ways:\n",
    "\n",
    "1. Directly, use it to make inference. See [Model](Model.html)\n",
    "    1. Check and run Benchmarks on the model. See [Benchmarks](Benchmarks.html) \n",
    "2. Generating semantic **embeddings**. E.g. for Similarity search. See [Embeddings](Embeddings.html). \n",
    "2. **Fine-tunning** the model for other tasks, or for other input data. E.g. flood detection, crop yields, ... See [Fine-tunning](Fine-tunning.html).\n",
    "3. **Generative** tasks: E.g. Estimate RGB imagery wihtout clouds or from Synthetic Aperture Radar (SAR) data. See [Generative](Generative.html).\n"
   ]
  },
  {
   "cell_type": "markdown",
   "metadata": {},
   "source": [
    "--\n",
    "\n",
    "Clay is a fiscally sponsored project of [Radiant Earth](), a USA registered 501(c)3 non-profit."
   ]
  }
 ],
 "metadata": {
  "kernelspec": {
   "display_name": "python3",
   "language": "python",
   "name": "python3"
  }
 },
 "nbformat": 4,
 "nbformat_minor": 4
}
